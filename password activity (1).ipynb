{
 "cells": [
  {
   "cell_type": "code",
   "execution_count": 29,
   "id": "65c82d9e",
   "metadata": {},
   "outputs": [
    {
     "name": "stdout",
     "output_type": "stream",
     "text": [
      "The password is: happyblue81@\n"
     ]
    }
   ],
   "source": [
    "import random\n",
    "\n",
    "adjective_characters=[\"beautiful\",\"smart\",\"great\",\"rich\",\"attractive\",\"hard\",\"soft\",\"smooth\",\"happy\",\"cheerful\",\"precious\",\"adorable\",\"pretty\"\"friendly\",\"gentle\",\"sharp\",\"rough\",\"huge\",\"perfect\",\"fantastic\"]\n",
    "noun_characters=[\"baby\",\"man\",\"diya\",\"pen\",\"book\",\"table\",\"doll\",\"bird\",\"tree\",\"time\",\"day\",\"world\",\"india\",\"house\",\"wall\",\"red\",\"blue\",\"car\",\"river\",\"mountain\"]\n",
    "number=list(range(0,100))\n",
    "punctuation_characters=[\"!\",\"@\",\"#\",\"$\",\"%\",\"^\",\"&\",\"*\",\",\",\".\",\":\",\";\",\"'\",\"<\",\">\",\"/\",\"?\"]\n",
    "adj=random.choice(adjective_characters)  \n",
    "nou=random.choice(noun_characters) \n",
    "num=random.choice(number)                        \n",
    "pun=random.choice(punctuation_characters) \n",
    "                        \n",
    "print(\"The password is:\",str(adj)+str(nou)+str(num)+str(pun))         "
   ]
  },
  {
   "cell_type": "code",
   "execution_count": null,
   "id": "5340c113",
   "metadata": {},
   "outputs": [],
   "source": []
  },
  {
   "cell_type": "code",
   "execution_count": null,
   "id": "e9f1454f",
   "metadata": {},
   "outputs": [],
   "source": []
  },
  {
   "cell_type": "code",
   "execution_count": null,
   "id": "0488a68b",
   "metadata": {},
   "outputs": [],
   "source": []
  }
 ],
 "metadata": {
  "kernelspec": {
   "display_name": "Python 3",
   "language": "python",
   "name": "python3"
  },
  "language_info": {
   "codemirror_mode": {
    "name": "ipython",
    "version": 3
   },
   "file_extension": ".py",
   "mimetype": "text/x-python",
   "name": "python",
   "nbconvert_exporter": "python",
   "pygments_lexer": "ipython3",
   "version": "3.8.8"
  }
 },
 "nbformat": 4,
 "nbformat_minor": 5
}
